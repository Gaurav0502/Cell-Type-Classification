{
 "cells": [
  {
   "cell_type": "markdown",
   "id": "b47bc32f",
   "metadata": {},
   "source": [
    "# Exploratory Data Analysis"
   ]
  },
  {
   "cell_type": "markdown",
   "id": "49b5f61a",
   "metadata": {},
   "source": [
    "Exploratory Data Analysis is used to get an insight into the type of data. In this project, we have data in form of images. \n",
    "\n",
    "1. Analysis the extension of files and their quantity to get a glimpse into the computational time required to extract the pixels features.\n",
    "2. Exploration the types of dimensions of the images.\n",
    "3. Analysis of the Class Distributions.\n",
    "4. Analysis of the structures of the images through mean images of each class.\n",
    "\n",
    "Since, we have a images with a lot of pixels, we perform a Principal Component Analysis(PCA) after the Standardization of the dataset. We encode the target variable(i.e. a categorical variable) using Label Encoding and One-hot Encoding both separately.\n",
    "\n",
    "Finally, we split the dataset into train, test and validation datasets."
   ]
  },
  {
   "cell_type": "markdown",
   "id": "885d470d",
   "metadata": {},
   "source": [
    "# Importing the required modules"
   ]
  },
  {
   "cell_type": "code",
   "execution_count": 1,
   "id": "33ab0e72",
   "metadata": {},
   "outputs": [],
   "source": [
    "# Modules for data handling and visualisation.\n",
    "import numpy as np\n",
    "import pandas as pd\n",
    "import matplotlib.pyplot as plt\n",
    "import seaborn as sns\n",
    "\n",
    "# Modules for accessing the directories.\n",
    "import os\n",
    "\n",
    "# Modules for image displaying\n",
    "from skimage.io import imshow\n",
    "from PIL import Image\n",
    "\n",
    "# Modules for Standardization and Encoding\n",
    "from sklearn.preprocessing import StandardScaler\n",
    "from sklearn.preprocessing import OneHotEncoder\n",
    "from sklearn.preprocessing import LabelEncoder\n",
    "from sklearn.model_selection import train_test_split\n",
    "\n",
    "# Modules for Principal Component Analysis\n",
    "from sklearn.decomposition import PCA"
   ]
  },
  {
   "cell_type": "markdown",
   "id": "3b14f844",
   "metadata": {},
   "source": [
    "# Setting the plot styles"
   ]
  },
  {
   "cell_type": "code",
   "execution_count": 2,
   "id": "19201722",
   "metadata": {},
   "outputs": [],
   "source": [
    "sns.set_theme()"
   ]
  },
  {
   "cell_type": "markdown",
   "id": "71331884",
   "metadata": {},
   "source": [
    "# File Directory Analysis"
   ]
  },
  {
   "cell_type": "code",
   "execution_count": 3,
   "id": "40ea0ed7",
   "metadata": {},
   "outputs": [],
   "source": [
    "def getExtension(fileName):\n",
    "    return os.path.splitext(fileName)[1]"
   ]
  },
  {
   "cell_type": "code",
   "execution_count": 4,
   "id": "d4104f7f",
   "metadata": {},
   "outputs": [],
   "source": [
    "def files(celltype):\n",
    " folder = os.path.join(r\"../data/Blood Cells\",celltype)\n",
    " extensions = list(map(getExtension,os.listdir(folder)))\n",
    " return extensions\n",
    "        "
   ]
  },
  {
   "cell_type": "code",
   "execution_count": 5,
   "id": "ca0ec0a4",
   "metadata": {},
   "outputs": [],
   "source": [
    "classes = [\"basophil\",\"neutrophil\",\"eosinophil\",\"monocyte\",\"lymphocyte\",\"ig\",\"erythroblast\",\"platelet\"]\n",
    "fileExtensions = []"
   ]
  },
  {
   "cell_type": "code",
   "execution_count": 6,
   "id": "d7f4db6d",
   "metadata": {},
   "outputs": [],
   "source": [
    "for i in classes:\n",
    "    fileExtensions += files(i)"
   ]
  },
  {
   "cell_type": "code",
   "execution_count": 7,
   "id": "9d9154d7",
   "metadata": {},
   "outputs": [
    {
     "data": {
      "image/png": "[encoded data removed]",
      "text/plain": [
       "<Figure size 432x288 with 1 Axes>"
      ]
     },
     "metadata": {},
     "output_type": "display_data"
    }
   ],
   "source": [
    "x = pd.DataFrame(fileExtensions).value_counts()\n",
    "plt.pie(dict(x).values(),labels=dict(x).keys())\n",
    "plt.show()"
   ]
  },
  {
   "cell_type": "markdown",
   "id": "f1099b6f",
   "metadata": {},
   "source": [
    "This implies that all the files are of the same extension (i.e. \".jpg\") among all the directories of classes."
   ]
  },
  {
   "cell_type": "markdown",
   "id": "d8d59594",
   "metadata": {},
   "source": [
    "# Image Dimension Analysis"
   ]
  },
  {
   "cell_type": "code",
   "execution_count": 11,
   "id": "b3b10782",
   "metadata": {},
   "outputs": [],
   "source": [
    "def getDimensions(celltype):\n",
    "    folder = os.path.join(r\"../data/Blood Cells\",celltype)\n",
    "    imgDim = []\n",
    "    for filename in os.listdir(folder):\n",
    "        img = Image.open(os.path.join(folder,filename))\n",
    "        imgDim.append(img.size)\n",
    "    return imgDim"
   ]
  },
  {
   "cell_type": "code",
   "execution_count": 12,
   "id": "6091aae9",
   "metadata": {},
   "outputs": [],
   "source": [
    "fileDims = []"
   ]
  },
  {
   "cell_type": "code",
   "execution_count": 13,
   "id": "adde1fa3",
   "metadata": {},
   "outputs": [],
   "source": [
    "for i in classes:\n",
    "    fileDims += getDimensions(i)"
   ]
  },
  {
   "cell_type": "code",
   "execution_count": 14,
   "id": "cc78be7e",
   "metadata": {},
   "outputs": [
    {
     "data": {
      "text/plain": [
       ".jpg    17092\n",
       "dtype: int64"
      ]
     },
     "execution_count": 14,
     "metadata": {},
     "output_type": "execute_result"
    }
   ],
   "source": [
    "x"
   ]
  },
  {
   "cell_type": "code",
   "execution_count": 15,
   "id": "b4acf837",
   "metadata": {
    "scrolled": true
   },
   "outputs": [
    {
     "data": {
      "image/png": "[encoded data removed]",
      "text/plain": [
       "<Figure size 432x288 with 1 Axes>"
      ]
     },
     "metadata": {},
     "output_type": "display_data"
    }
   ],
   "source": [
    "x = pd.DataFrame(fileDims).value_counts()\n",
    "plt.bar(list(map(str,dict(x).keys())),dict(x).values(),color=[\"crimson\",\"orange\",\"green\"],edgecolor=\"black\",log=True)\n",
    "plt.title(\"Image Dimensions Types\")\n",
    "plt.xlabel(\"Dimension\")\n",
    "plt.ylabel(\"No.of images\")\n",
    "plt.xticks(rotation=80)\n",
    "plt.show()"
   ]
  },
  {
   "cell_type": "markdown",
   "id": "47d5e0ba",
   "metadata": {},
   "source": [
    "# Reading the dataset"
   ]
  },
  {
   "cell_type": "code",
   "execution_count": null,
   "id": "5c5a75d8",
   "metadata": {},
   "outputs": [],
   "source": [
    "import chardet\n",
    "with open(\"../../dataset_grayscale.csv\", 'rb') as rawdata:\n",
    "    result = chardet.detect(rawdata.read(1000000000))\n",
    "result"
   ]
  },
  {
   "cell_type": "code",
   "execution_count": 22,
   "id": "00f6c631",
   "metadata": {},
   "outputs": [
    {
     "ename": "UnicodeDecodeError",
     "evalue": "'ascii' codec can't decode byte 0xae in position 229376: ordinal not in range(128)",
     "output_type": "error",
     "traceback": [
      "\u001b[1;31m---------------------------------------------------------------------------\u001b[0m",
      "\u001b[1;31mUnicodeDecodeError\u001b[0m                        Traceback (most recent call last)",
      "\u001b[1;32m~\\AppData\\Local\\Temp/ipykernel_14232/3799798022.py\u001b[0m in \u001b[0;36m<module>\u001b[1;34m\u001b[0m\n\u001b[1;32m----> 1\u001b[1;33m \u001b[0mcells\u001b[0m \u001b[1;33m=\u001b[0m \u001b[0mpd\u001b[0m\u001b[1;33m.\u001b[0m\u001b[0mread_csv\u001b[0m\u001b[1;33m(\u001b[0m\u001b[1;34mr\"../../dataset_grayscale.csv\"\u001b[0m\u001b[1;33m,\u001b[0m \u001b[0mencoding\u001b[0m\u001b[1;33m=\u001b[0m\u001b[1;34m\"ascii\"\u001b[0m\u001b[1;33m)\u001b[0m\u001b[1;33m\u001b[0m\u001b[1;33m\u001b[0m\u001b[0m\n\u001b[0m",
      "\u001b[1;32m~\\anaconda3\\lib\\site-packages\\pandas\\util\\_decorators.py\u001b[0m in \u001b[0;36mwrapper\u001b[1;34m(*args, **kwargs)\u001b[0m\n\u001b[0;32m    309\u001b[0m                     \u001b[0mstacklevel\u001b[0m\u001b[1;33m=\u001b[0m\u001b[0mstacklevel\u001b[0m\u001b[1;33m,\u001b[0m\u001b[1;33m\u001b[0m\u001b[1;33m\u001b[0m\u001b[0m\n\u001b[0;32m    310\u001b[0m                 )\n\u001b[1;32m--> 311\u001b[1;33m             \u001b[1;32mreturn\u001b[0m \u001b[0mfunc\u001b[0m\u001b[1;33m(\u001b[0m\u001b[1;33m*\u001b[0m\u001b[0margs\u001b[0m\u001b[1;33m,\u001b[0m \u001b[1;33m**\u001b[0m\u001b[0mkwargs\u001b[0m\u001b[1;33m)\u001b[0m\u001b[1;33m\u001b[0m\u001b[1;33m\u001b[0m\u001b[0m\n\u001b[0m\u001b[0;32m    312\u001b[0m \u001b[1;33m\u001b[0m\u001b[0m\n\u001b[0;32m    313\u001b[0m         \u001b[1;32mreturn\u001b[0m \u001b[0mwrapper\u001b[0m\u001b[1;33m\u001b[0m\u001b[1;33m\u001b[0m\u001b[0m\n",
      "\u001b[1;32m~\\anaconda3\\lib\\site-packages\\pandas\\io\\parsers\\readers.py\u001b[0m in \u001b[0;36mread_csv\u001b[1;34m(filepath_or_buffer, sep, delimiter, header, names, index_col, usecols, squeeze, prefix, mangle_dupe_cols, dtype, engine, converters, true_values, false_values, skipinitialspace, skiprows, skipfooter, nrows, na_values, keep_default_na, na_filter, verbose, skip_blank_lines, parse_dates, infer_datetime_format, keep_date_col, date_parser, dayfirst, cache_dates, iterator, chunksize, compression, thousands, decimal, lineterminator, quotechar, quoting, doublequote, escapechar, comment, encoding, encoding_errors, dialect, error_bad_lines, warn_bad_lines, on_bad_lines, delim_whitespace, low_memory, memory_map, float_precision, storage_options)\u001b[0m\n\u001b[0;32m    584\u001b[0m     \u001b[0mkwds\u001b[0m\u001b[1;33m.\u001b[0m\u001b[0mupdate\u001b[0m\u001b[1;33m(\u001b[0m\u001b[0mkwds_defaults\u001b[0m\u001b[1;33m)\u001b[0m\u001b[1;33m\u001b[0m\u001b[1;33m\u001b[0m\u001b[0m\n\u001b[0;32m    585\u001b[0m \u001b[1;33m\u001b[0m\u001b[0m\n\u001b[1;32m--> 586\u001b[1;33m     \u001b[1;32mreturn\u001b[0m \u001b[0m_read\u001b[0m\u001b[1;33m(\u001b[0m\u001b[0mfilepath_or_buffer\u001b[0m\u001b[1;33m,\u001b[0m \u001b[0mkwds\u001b[0m\u001b[1;33m)\u001b[0m\u001b[1;33m\u001b[0m\u001b[1;33m\u001b[0m\u001b[0m\n\u001b[0m\u001b[0;32m    587\u001b[0m \u001b[1;33m\u001b[0m\u001b[0m\n\u001b[0;32m    588\u001b[0m \u001b[1;33m\u001b[0m\u001b[0m\n",
      "\u001b[1;32m~\\anaconda3\\lib\\site-packages\\pandas\\io\\parsers\\readers.py\u001b[0m in \u001b[0;36m_read\u001b[1;34m(filepath_or_buffer, kwds)\u001b[0m\n\u001b[0;32m    480\u001b[0m \u001b[1;33m\u001b[0m\u001b[0m\n\u001b[0;32m    481\u001b[0m     \u001b[1;31m# Create the parser.\u001b[0m\u001b[1;33m\u001b[0m\u001b[1;33m\u001b[0m\u001b[1;33m\u001b[0m\u001b[0m\n\u001b[1;32m--> 482\u001b[1;33m     \u001b[0mparser\u001b[0m \u001b[1;33m=\u001b[0m \u001b[0mTextFileReader\u001b[0m\u001b[1;33m(\u001b[0m\u001b[0mfilepath_or_buffer\u001b[0m\u001b[1;33m,\u001b[0m \u001b[1;33m**\u001b[0m\u001b[0mkwds\u001b[0m\u001b[1;33m)\u001b[0m\u001b[1;33m\u001b[0m\u001b[1;33m\u001b[0m\u001b[0m\n\u001b[0m\u001b[0;32m    483\u001b[0m \u001b[1;33m\u001b[0m\u001b[0m\n\u001b[0;32m    484\u001b[0m     \u001b[1;32mif\u001b[0m \u001b[0mchunksize\u001b[0m \u001b[1;32mor\u001b[0m \u001b[0miterator\u001b[0m\u001b[1;33m:\u001b[0m\u001b[1;33m\u001b[0m\u001b[1;33m\u001b[0m\u001b[0m\n",
      "\u001b[1;32m~\\anaconda3\\lib\\site-packages\\pandas\\io\\parsers\\readers.py\u001b[0m in \u001b[0;36m__init__\u001b[1;34m(self, f, engine, **kwds)\u001b[0m\n\u001b[0;32m    809\u001b[0m             \u001b[0mself\u001b[0m\u001b[1;33m.\u001b[0m\u001b[0moptions\u001b[0m\u001b[1;33m[\u001b[0m\u001b[1;34m\"has_index_names\"\u001b[0m\u001b[1;33m]\u001b[0m \u001b[1;33m=\u001b[0m \u001b[0mkwds\u001b[0m\u001b[1;33m[\u001b[0m\u001b[1;34m\"has_index_names\"\u001b[0m\u001b[1;33m]\u001b[0m\u001b[1;33m\u001b[0m\u001b[1;33m\u001b[0m\u001b[0m\n\u001b[0;32m    810\u001b[0m \u001b[1;33m\u001b[0m\u001b[0m\n\u001b[1;32m--> 811\u001b[1;33m         \u001b[0mself\u001b[0m\u001b[1;33m.\u001b[0m\u001b[0m_engine\u001b[0m \u001b[1;33m=\u001b[0m \u001b[0mself\u001b[0m\u001b[1;33m.\u001b[0m\u001b[0m_make_engine\u001b[0m\u001b[1;33m(\u001b[0m\u001b[0mself\u001b[0m\u001b[1;33m.\u001b[0m\u001b[0mengine\u001b[0m\u001b[1;33m)\u001b[0m\u001b[1;33m\u001b[0m\u001b[1;33m\u001b[0m\u001b[0m\n\u001b[0m\u001b[0;32m    812\u001b[0m \u001b[1;33m\u001b[0m\u001b[0m\n\u001b[0;32m    813\u001b[0m     \u001b[1;32mdef\u001b[0m \u001b[0mclose\u001b[0m\u001b[1;33m(\u001b[0m\u001b[0mself\u001b[0m\u001b[1;33m)\u001b[0m\u001b[1;33m:\u001b[0m\u001b[1;33m\u001b[0m\u001b[1;33m\u001b[0m\u001b[0m\n",
      "\u001b[1;32m~\\anaconda3\\lib\\site-packages\\pandas\\io\\parsers\\readers.py\u001b[0m in \u001b[0;36m_make_engine\u001b[1;34m(self, engine)\u001b[0m\n\u001b[0;32m   1038\u001b[0m             )\n\u001b[0;32m   1039\u001b[0m         \u001b[1;31m# error: Too many arguments for \"ParserBase\"\u001b[0m\u001b[1;33m\u001b[0m\u001b[1;33m\u001b[0m\u001b[1;33m\u001b[0m\u001b[0m\n\u001b[1;32m-> 1040\u001b[1;33m         \u001b[1;32mreturn\u001b[0m \u001b[0mmapping\u001b[0m\u001b[1;33m[\u001b[0m\u001b[0mengine\u001b[0m\u001b[1;33m]\u001b[0m\u001b[1;33m(\u001b[0m\u001b[0mself\u001b[0m\u001b[1;33m.\u001b[0m\u001b[0mf\u001b[0m\u001b[1;33m,\u001b[0m \u001b[1;33m**\u001b[0m\u001b[0mself\u001b[0m\u001b[1;33m.\u001b[0m\u001b[0moptions\u001b[0m\u001b[1;33m)\u001b[0m  \u001b[1;31m# type: ignore[call-arg]\u001b[0m\u001b[1;33m\u001b[0m\u001b[1;33m\u001b[0m\u001b[0m\n\u001b[0m\u001b[0;32m   1041\u001b[0m \u001b[1;33m\u001b[0m\u001b[0m\n\u001b[0;32m   1042\u001b[0m     \u001b[1;32mdef\u001b[0m \u001b[0m_failover_to_python\u001b[0m\u001b[1;33m(\u001b[0m\u001b[0mself\u001b[0m\u001b[1;33m)\u001b[0m\u001b[1;33m:\u001b[0m\u001b[1;33m\u001b[0m\u001b[1;33m\u001b[0m\u001b[0m\n",
      "\u001b[1;32m~\\anaconda3\\lib\\site-packages\\pandas\\io\\parsers\\c_parser_wrapper.py\u001b[0m in \u001b[0;36m__init__\u001b[1;34m(self, src, **kwds)\u001b[0m\n\u001b[0;32m     67\u001b[0m         \u001b[0mkwds\u001b[0m\u001b[1;33m[\u001b[0m\u001b[1;34m\"dtype\"\u001b[0m\u001b[1;33m]\u001b[0m \u001b[1;33m=\u001b[0m \u001b[0mensure_dtype_objs\u001b[0m\u001b[1;33m(\u001b[0m\u001b[0mkwds\u001b[0m\u001b[1;33m.\u001b[0m\u001b[0mget\u001b[0m\u001b[1;33m(\u001b[0m\u001b[1;34m\"dtype\"\u001b[0m\u001b[1;33m,\u001b[0m \u001b[1;32mNone\u001b[0m\u001b[1;33m)\u001b[0m\u001b[1;33m)\u001b[0m\u001b[1;33m\u001b[0m\u001b[1;33m\u001b[0m\u001b[0m\n\u001b[0;32m     68\u001b[0m         \u001b[1;32mtry\u001b[0m\u001b[1;33m:\u001b[0m\u001b[1;33m\u001b[0m\u001b[1;33m\u001b[0m\u001b[0m\n\u001b[1;32m---> 69\u001b[1;33m             \u001b[0mself\u001b[0m\u001b[1;33m.\u001b[0m\u001b[0m_reader\u001b[0m \u001b[1;33m=\u001b[0m \u001b[0mparsers\u001b[0m\u001b[1;33m.\u001b[0m\u001b[0mTextReader\u001b[0m\u001b[1;33m(\u001b[0m\u001b[0mself\u001b[0m\u001b[1;33m.\u001b[0m\u001b[0mhandles\u001b[0m\u001b[1;33m.\u001b[0m\u001b[0mhandle\u001b[0m\u001b[1;33m,\u001b[0m \u001b[1;33m**\u001b[0m\u001b[0mkwds\u001b[0m\u001b[1;33m)\u001b[0m\u001b[1;33m\u001b[0m\u001b[1;33m\u001b[0m\u001b[0m\n\u001b[0m\u001b[0;32m     70\u001b[0m         \u001b[1;32mexcept\u001b[0m \u001b[0mException\u001b[0m\u001b[1;33m:\u001b[0m\u001b[1;33m\u001b[0m\u001b[1;33m\u001b[0m\u001b[0m\n\u001b[0;32m     71\u001b[0m             \u001b[0mself\u001b[0m\u001b[1;33m.\u001b[0m\u001b[0mhandles\u001b[0m\u001b[1;33m.\u001b[0m\u001b[0mclose\u001b[0m\u001b[1;33m(\u001b[0m\u001b[1;33m)\u001b[0m\u001b[1;33m\u001b[0m\u001b[1;33m\u001b[0m\u001b[0m\n",
      "\u001b[1;32m~\\anaconda3\\lib\\site-packages\\pandas\\_libs\\parsers.pyx\u001b[0m in \u001b[0;36mpandas._libs.parsers.TextReader.__cinit__\u001b[1;34m()\u001b[0m\n",
      "\u001b[1;32m~\\anaconda3\\lib\\site-packages\\pandas\\_libs\\parsers.pyx\u001b[0m in \u001b[0;36mpandas._libs.parsers.TextReader._get_header\u001b[1;34m()\u001b[0m\n",
      "\u001b[1;32m~\\anaconda3\\lib\\site-packages\\pandas\\_libs\\parsers.pyx\u001b[0m in \u001b[0;36mpandas._libs.parsers.TextReader._tokenize_rows\u001b[1;34m()\u001b[0m\n",
      "\u001b[1;32m~\\anaconda3\\lib\\site-packages\\pandas\\_libs\\parsers.pyx\u001b[0m in \u001b[0;36mpandas._libs.parsers.raise_parser_error\u001b[1;34m()\u001b[0m\n",
      "\u001b[1;31mUnicodeDecodeError\u001b[0m: 'ascii' codec can't decode byte 0xae in position 229376: ordinal not in range(128)"
     ]
    }
   ],
   "source": [
    "cells = pd.read_csv(r\"../../dataset_grayscale.csv\", encoding=\"ascii\")"
   ]
  },
  {
   "cell_type": "code",
   "execution_count": 16,
   "id": "497ee4fd",
   "metadata": {},
   "outputs": [
    {
     "name": "stdout",
     "output_type": "stream",
     "text": [
      "<class 'pandas.core.frame.DataFrame'>\n",
      "RangeIndex: 17099 entries, 0 to 17098\n",
      "Columns: 7227 entries, Unnamed: 0 to cellType\n",
      "dtypes: float64(7226), object(1)\n",
      "memory usage: 942.8+ MB\n"
     ]
    }
   ],
   "source": [
    "cells.info()"
   ]
  },
  {
   "cell_type": "code",
   "execution_count": 17,
   "id": "62e11935",
   "metadata": {},
   "outputs": [],
   "source": [
    "cells = cells.drop([\"Unnamed: 0\"],axis = 1)"
   ]
  },
  {
   "cell_type": "markdown",
   "id": "00d54bae",
   "metadata": {},
   "source": [
    "# Class Distribution"
   ]
  },
  {
   "cell_type": "code",
   "execution_count": 18,
   "id": "4190ac3e",
   "metadata": {},
   "outputs": [],
   "source": [
    "classCount = cells[\"cellType\"].value_counts()\n",
    "del classCount[\"cellType\"]"
   ]
  },
  {
   "cell_type": "code",
   "execution_count": 19,
   "id": "133b4349",
   "metadata": {},
   "outputs": [
    {
     "data": {
      "image/png": "[encoded data removed]",
      "text/plain": [
       "<Figure size 432x288 with 1 Axes>"
      ]
     },
     "metadata": {},
     "output_type": "display_data"
    }
   ],
   "source": [
    "plt.bar(dict(classCount).keys(),dict(classCount).values(),color=[\"green\",\"yellow\",\"gold\"],edgecolor=\"black\")\n",
    "plt.title(\"Class Distribution\")\n",
    "plt.xlabel(\"Type of Blood cell\")\n",
    "plt.ylabel(\"No.of images\")\n",
    "plt.xticks(rotation=80)\n",
    "plt.show()"
   ]
  },
  {
   "cell_type": "markdown",
   "id": "21381f88",
   "metadata": {},
   "source": [
    "The bar chart clearly depicts that the dataset we have obtain is slightly biased."
   ]
  },
  {
   "cell_type": "markdown",
   "id": "9b513fde",
   "metadata": {},
   "source": [
    "# Mean images of each class"
   ]
  },
  {
   "cell_type": "code",
   "execution_count": 20,
   "id": "c5b85d49",
   "metadata": {},
   "outputs": [],
   "source": [
    "cells.drop(cells[(cells['cellType'] == \"cellType\")].index, inplace=True)"
   ]
  },
  {
   "cell_type": "code",
   "execution_count": 21,
   "id": "aa4cdf5e",
   "metadata": {},
   "outputs": [],
   "source": [
    "avgImgs = cells.groupby(\"cellType\")[[str(i) for i in range(0,7225)]].mean()"
   ]
  },
  {
   "cell_type": "code",
   "execution_count": 22,
   "id": "1f8c90b9",
   "metadata": {},
   "outputs": [],
   "source": [
    "indices = list(avgImgs.index)"
   ]
  },
  {
   "cell_type": "code",
   "execution_count": 23,
   "id": "84b8cd6e",
   "metadata": {},
   "outputs": [
    {
     "data": {
      "image/png": "[encoded data removed]",
      "text/plain": [
       "<Figure size 1800x1800 with 8 Axes>"
      ]
     },
     "metadata": {},
     "output_type": "display_data"
    }
   ],
   "source": [
    "f, ax = plt.subplots(1,8,figsize=(25,25))\n",
    "for i in range(len(indices)):\n",
    "    img = np.reshape(np.array(avgImgs.loc[indices[i]]),(85,85))\n",
    "    ax[i].imshow(img)\n",
    "    ax[i].set_title(\"Mean Image of \"+indices[i])\n",
    "plt.show()"
   ]
  },
  {
   "cell_type": "markdown",
   "id": "f145b470",
   "metadata": {},
   "source": [
    "# Standardization of data"
   ]
  },
  {
   "cell_type": "code",
   "execution_count": 24,
   "id": "da41c8b5",
   "metadata": {},
   "outputs": [],
   "source": [
    "scaler = StandardScaler()"
   ]
  },
  {
   "cell_type": "code",
   "execution_count": 25,
   "id": "502b9f92",
   "metadata": {},
   "outputs": [],
   "source": [
    "scaled = scaler.fit_transform(cells[[str(i) for i in range(0,7225)]])"
   ]
  },
  {
   "cell_type": "code",
   "execution_count": 26,
   "id": "491918bf",
   "metadata": {},
   "outputs": [],
   "source": [
    "cells_scaled = pd.DataFrame(scaled).join(cells[\"cellType\"])"
   ]
  },
  {
   "cell_type": "code",
   "execution_count": 27,
   "id": "01c39162",
   "metadata": {},
   "outputs": [
    {
     "data": {
      "text/html": [
       "<div>\n",
       "<style scoped>\n",
       "    .dataframe tbody tr th:only-of-type {\n",
       "        vertical-align: middle;\n",
       "    }\n",
       "\n",
       "    .dataframe tbody tr th {\n",
       "        vertical-align: top;\n",
       "    }\n",
       "\n",
       "    .dataframe thead th {\n",
       "        text-align: right;\n",
       "    }\n",
       "</style>\n",
       "<table border=\"1\" class=\"dataframe\">\n",
       "  <thead>\n",
       "    <tr style=\"text-align: right;\">\n",
       "      <th></th>\n",
       "      <th>0</th>\n",
       "      <th>1</th>\n",
       "      <th>2</th>\n",
       "      <th>3</th>\n",
       "      <th>4</th>\n",
       "      <th>5</th>\n",
       "      <th>6</th>\n",
       "      <th>7</th>\n",
       "      <th>8</th>\n",
       "      <th>9</th>\n",
       "      <th>...</th>\n",
       "      <th>7216</th>\n",
       "      <th>7217</th>\n",
       "      <th>7218</th>\n",
       "      <th>7219</th>\n",
       "      <th>7220</th>\n",
       "      <th>7221</th>\n",
       "      <th>7222</th>\n",
       "      <th>7223</th>\n",
       "      <th>7224</th>\n",
       "      <th>cellType</th>\n",
       "    </tr>\n",
       "  </thead>\n",
       "  <tbody>\n",
       "    <tr>\n",
       "      <th>0</th>\n",
       "      <td>0.834478</td>\n",
       "      <td>0.736110</td>\n",
       "      <td>0.573790</td>\n",
       "      <td>0.275594</td>\n",
       "      <td>-0.232871</td>\n",
       "      <td>-0.667440</td>\n",
       "      <td>-0.879175</td>\n",
       "      <td>-0.887755</td>\n",
       "      <td>-0.512532</td>\n",
       "      <td>0.427380</td>\n",
       "      <td>...</td>\n",
       "      <td>0.819870</td>\n",
       "      <td>0.937922</td>\n",
       "      <td>0.923154</td>\n",
       "      <td>0.902059</td>\n",
       "      <td>0.886500</td>\n",
       "      <td>0.808514</td>\n",
       "      <td>0.267126</td>\n",
       "      <td>-0.738747</td>\n",
       "      <td>-0.993997</td>\n",
       "      <td>basophil</td>\n",
       "    </tr>\n",
       "    <tr>\n",
       "      <th>1</th>\n",
       "      <td>0.891030</td>\n",
       "      <td>0.896438</td>\n",
       "      <td>0.914669</td>\n",
       "      <td>0.914479</td>\n",
       "      <td>0.912281</td>\n",
       "      <td>0.925389</td>\n",
       "      <td>0.979287</td>\n",
       "      <td>0.935035</td>\n",
       "      <td>0.913478</td>\n",
       "      <td>0.901087</td>\n",
       "      <td>...</td>\n",
       "      <td>-0.919316</td>\n",
       "      <td>-0.722542</td>\n",
       "      <td>-0.269857</td>\n",
       "      <td>0.411712</td>\n",
       "      <td>0.759946</td>\n",
       "      <td>0.041747</td>\n",
       "      <td>-0.725238</td>\n",
       "      <td>-1.115018</td>\n",
       "      <td>-1.274815</td>\n",
       "      <td>basophil</td>\n",
       "    </tr>\n",
       "    <tr>\n",
       "      <th>2</th>\n",
       "      <td>-0.684981</td>\n",
       "      <td>-0.723202</td>\n",
       "      <td>-0.656958</td>\n",
       "      <td>-0.569979</td>\n",
       "      <td>-0.338718</td>\n",
       "      <td>0.249649</td>\n",
       "      <td>0.735144</td>\n",
       "      <td>0.886301</td>\n",
       "      <td>0.892921</td>\n",
       "      <td>0.833421</td>\n",
       "      <td>...</td>\n",
       "      <td>0.705551</td>\n",
       "      <td>0.672274</td>\n",
       "      <td>0.674480</td>\n",
       "      <td>0.812613</td>\n",
       "      <td>0.884220</td>\n",
       "      <td>0.850549</td>\n",
       "      <td>0.898655</td>\n",
       "      <td>0.566167</td>\n",
       "      <td>-0.742915</td>\n",
       "      <td>basophil</td>\n",
       "    </tr>\n",
       "    <tr>\n",
       "      <th>3</th>\n",
       "      <td>-1.678019</td>\n",
       "      <td>-1.614990</td>\n",
       "      <td>-1.368940</td>\n",
       "      <td>-0.644600</td>\n",
       "      <td>0.614949</td>\n",
       "      <td>0.854765</td>\n",
       "      <td>0.870998</td>\n",
       "      <td>0.861632</td>\n",
       "      <td>0.831371</td>\n",
       "      <td>0.820691</td>\n",
       "      <td>...</td>\n",
       "      <td>-1.414420</td>\n",
       "      <td>-1.510180</td>\n",
       "      <td>-0.384695</td>\n",
       "      <td>0.697696</td>\n",
       "      <td>0.883037</td>\n",
       "      <td>0.846236</td>\n",
       "      <td>0.790810</td>\n",
       "      <td>0.790231</td>\n",
       "      <td>0.840279</td>\n",
       "      <td>basophil</td>\n",
       "    </tr>\n",
       "    <tr>\n",
       "      <th>4</th>\n",
       "      <td>-1.010037</td>\n",
       "      <td>-1.218470</td>\n",
       "      <td>-1.230775</td>\n",
       "      <td>-0.895557</td>\n",
       "      <td>-0.005006</td>\n",
       "      <td>0.663943</td>\n",
       "      <td>0.402399</td>\n",
       "      <td>-0.176925</td>\n",
       "      <td>-0.571468</td>\n",
       "      <td>-0.734644</td>\n",
       "      <td>...</td>\n",
       "      <td>-1.340642</td>\n",
       "      <td>-1.123646</td>\n",
       "      <td>-0.647963</td>\n",
       "      <td>0.233104</td>\n",
       "      <td>0.726014</td>\n",
       "      <td>0.801177</td>\n",
       "      <td>0.868163</td>\n",
       "      <td>0.852235</td>\n",
       "      <td>0.894973</td>\n",
       "      <td>basophil</td>\n",
       "    </tr>\n",
       "    <tr>\n",
       "      <th>...</th>\n",
       "      <td>...</td>\n",
       "      <td>...</td>\n",
       "      <td>...</td>\n",
       "      <td>...</td>\n",
       "      <td>...</td>\n",
       "      <td>...</td>\n",
       "      <td>...</td>\n",
       "      <td>...</td>\n",
       "      <td>...</td>\n",
       "      <td>...</td>\n",
       "      <td>...</td>\n",
       "      <td>...</td>\n",
       "      <td>...</td>\n",
       "      <td>...</td>\n",
       "      <td>...</td>\n",
       "      <td>...</td>\n",
       "      <td>...</td>\n",
       "      <td>...</td>\n",
       "      <td>...</td>\n",
       "      <td>...</td>\n",
       "      <td>...</td>\n",
       "    </tr>\n",
       "    <tr>\n",
       "      <th>17087</th>\n",
       "      <td>-1.351478</td>\n",
       "      <td>-1.247880</td>\n",
       "      <td>-0.825465</td>\n",
       "      <td>0.398077</td>\n",
       "      <td>0.894876</td>\n",
       "      <td>0.837888</td>\n",
       "      <td>0.843727</td>\n",
       "      <td>0.842585</td>\n",
       "      <td>0.845166</td>\n",
       "      <td>0.869553</td>\n",
       "      <td>...</td>\n",
       "      <td>0.819014</td>\n",
       "      <td>0.871453</td>\n",
       "      <td>0.876944</td>\n",
       "      <td>0.858214</td>\n",
       "      <td>0.026444</td>\n",
       "      <td>-1.222150</td>\n",
       "      <td>-1.634415</td>\n",
       "      <td>-1.677408</td>\n",
       "      <td>-1.674350</td>\n",
       "      <td>neutrophil</td>\n",
       "    </tr>\n",
       "    <tr>\n",
       "      <th>17088</th>\n",
       "      <td>-0.902981</td>\n",
       "      <td>-0.715138</td>\n",
       "      <td>-0.589200</td>\n",
       "      <td>-0.386833</td>\n",
       "      <td>-0.208346</td>\n",
       "      <td>-0.308426</td>\n",
       "      <td>-0.171111</td>\n",
       "      <td>-0.415620</td>\n",
       "      <td>-1.030874</td>\n",
       "      <td>-1.509779</td>\n",
       "      <td>...</td>\n",
       "      <td>-0.034688</td>\n",
       "      <td>0.279654</td>\n",
       "      <td>0.355009</td>\n",
       "      <td>0.304678</td>\n",
       "      <td>0.251449</td>\n",
       "      <td>0.191305</td>\n",
       "      <td>0.051186</td>\n",
       "      <td>-0.287136</td>\n",
       "      <td>-0.625554</td>\n",
       "      <td>neutrophil</td>\n",
       "    </tr>\n",
       "    <tr>\n",
       "      <th>17089</th>\n",
       "      <td>-1.523725</td>\n",
       "      <td>-1.678016</td>\n",
       "      <td>-1.694076</td>\n",
       "      <td>-1.689314</td>\n",
       "      <td>-1.643973</td>\n",
       "      <td>-1.612300</td>\n",
       "      <td>-1.552094</td>\n",
       "      <td>-1.444181</td>\n",
       "      <td>-1.183304</td>\n",
       "      <td>-0.492804</td>\n",
       "      <td>...</td>\n",
       "      <td>0.279992</td>\n",
       "      <td>0.142044</td>\n",
       "      <td>-0.407159</td>\n",
       "      <td>-1.027488</td>\n",
       "      <td>-1.440590</td>\n",
       "      <td>-1.684904</td>\n",
       "      <td>-1.778501</td>\n",
       "      <td>-1.852869</td>\n",
       "      <td>-1.924020</td>\n",
       "      <td>neutrophil</td>\n",
       "    </tr>\n",
       "    <tr>\n",
       "      <th>17090</th>\n",
       "      <td>0.573243</td>\n",
       "      <td>0.893105</td>\n",
       "      <td>0.951359</td>\n",
       "      <td>0.929686</td>\n",
       "      <td>0.907103</td>\n",
       "      <td>0.843032</td>\n",
       "      <td>0.377005</td>\n",
       "      <td>-0.492015</td>\n",
       "      <td>-0.923303</td>\n",
       "      <td>-1.125548</td>\n",
       "      <td>...</td>\n",
       "      <td>-1.372481</td>\n",
       "      <td>-1.352754</td>\n",
       "      <td>-1.268885</td>\n",
       "      <td>-1.193650</td>\n",
       "      <td>-0.899118</td>\n",
       "      <td>-0.185546</td>\n",
       "      <td>0.611630</td>\n",
       "      <td>0.870671</td>\n",
       "      <td>0.924459</td>\n",
       "      <td>neutrophil</td>\n",
       "    </tr>\n",
       "    <tr>\n",
       "      <th>17091</th>\n",
       "      <td>0.815698</td>\n",
       "      <td>0.820592</td>\n",
       "      <td>0.815093</td>\n",
       "      <td>0.777194</td>\n",
       "      <td>0.440804</td>\n",
       "      <td>-1.205894</td>\n",
       "      <td>-2.543673</td>\n",
       "      <td>-2.463804</td>\n",
       "      <td>-1.401359</td>\n",
       "      <td>-0.148176</td>\n",
       "      <td>...</td>\n",
       "      <td>0.887019</td>\n",
       "      <td>0.876183</td>\n",
       "      <td>0.876144</td>\n",
       "      <td>0.878440</td>\n",
       "      <td>0.907374</td>\n",
       "      <td>0.891516</td>\n",
       "      <td>0.869986</td>\n",
       "      <td>0.811995</td>\n",
       "      <td>0.832805</td>\n",
       "      <td>neutrophil</td>\n",
       "    </tr>\n",
       "  </tbody>\n",
       "</table>\n",
       "<p>17092 rows × 7226 columns</p>\n",
       "</div>"
      ],
      "text/plain": [
       "              0         1         2         3         4         5         6  \\\n",
       "0      0.834478  0.736110  0.573790  0.275594 -0.232871 -0.667440 -0.879175   \n",
       "1      0.891030  0.896438  0.914669  0.914479  0.912281  0.925389  0.979287   \n",
       "2     -0.684981 -0.723202 -0.656958 -0.569979 -0.338718  0.249649  0.735144   \n",
       "3     -1.678019 -1.614990 -1.368940 -0.644600  0.614949  0.854765  0.870998   \n",
       "4     -1.010037 -1.218470 -1.230775 -0.895557 -0.005006  0.663943  0.402399   \n",
       "...         ...       ...       ...       ...       ...       ...       ...   \n",
       "17087 -1.351478 -1.247880 -0.825465  0.398077  0.894876  0.837888  0.843727   \n",
       "17088 -0.902981 -0.715138 -0.589200 -0.386833 -0.208346 -0.308426 -0.171111   \n",
       "17089 -1.523725 -1.678016 -1.694076 -1.689314 -1.643973 -1.612300 -1.552094   \n",
       "17090  0.573243  0.893105  0.951359  0.929686  0.907103  0.843032  0.377005   \n",
       "17091  0.815698  0.820592  0.815093  0.777194  0.440804 -1.205894 -2.543673   \n",
       "\n",
       "              7         8         9  ...      7216      7217      7218  \\\n",
       "0     -0.887755 -0.512532  0.427380  ...  0.819870  0.937922  0.923154   \n",
       "1      0.935035  0.913478  0.901087  ... -0.919316 -0.722542 -0.269857   \n",
       "2      0.886301  0.892921  0.833421  ...  0.705551  0.672274  0.674480   \n",
       "3      0.861632  0.831371  0.820691  ... -1.414420 -1.510180 -0.384695   \n",
       "4     -0.176925 -0.571468 -0.734644  ... -1.340642 -1.123646 -0.647963   \n",
       "...         ...       ...       ...  ...       ...       ...       ...   \n",
       "17087  0.842585  0.845166  0.869553  ...  0.819014  0.871453  0.876944   \n",
       "17088 -0.415620 -1.030874 -1.509779  ... -0.034688  0.279654  0.355009   \n",
       "17089 -1.444181 -1.183304 -0.492804  ...  0.279992  0.142044 -0.407159   \n",
       "17090 -0.492015 -0.923303 -1.125548  ... -1.372481 -1.352754 -1.268885   \n",
       "17091 -2.463804 -1.401359 -0.148176  ...  0.887019  0.876183  0.876144   \n",
       "\n",
       "           7219      7220      7221      7222      7223      7224    cellType  \n",
       "0      0.902059  0.886500  0.808514  0.267126 -0.738747 -0.993997    basophil  \n",
       "1      0.411712  0.759946  0.041747 -0.725238 -1.115018 -1.274815    basophil  \n",
       "2      0.812613  0.884220  0.850549  0.898655  0.566167 -0.742915    basophil  \n",
       "3      0.697696  0.883037  0.846236  0.790810  0.790231  0.840279    basophil  \n",
       "4      0.233104  0.726014  0.801177  0.868163  0.852235  0.894973    basophil  \n",
       "...         ...       ...       ...       ...       ...       ...         ...  \n",
       "17087  0.858214  0.026444 -1.222150 -1.634415 -1.677408 -1.674350  neutrophil  \n",
       "17088  0.304678  0.251449  0.191305  0.051186 -0.287136 -0.625554  neutrophil  \n",
       "17089 -1.027488 -1.440590 -1.684904 -1.778501 -1.852869 -1.924020  neutrophil  \n",
       "17090 -1.193650 -0.899118 -0.185546  0.611630  0.870671  0.924459  neutrophil  \n",
       "17091  0.878440  0.907374  0.891516  0.869986  0.811995  0.832805  neutrophil  \n",
       "\n",
       "[17092 rows x 7226 columns]"
      ]
     },
     "execution_count": 27,
     "metadata": {},
     "output_type": "execute_result"
    }
   ],
   "source": [
    "cells_scaled"
   ]
  },
  {
   "cell_type": "markdown",
   "id": "b72b034f",
   "metadata": {},
   "source": [
    "# Principal Component Analysis"
   ]
  },
  {
   "cell_type": "code",
   "execution_count": 35,
   "id": "dcd78cea",
   "metadata": {},
   "outputs": [
    {
     "name": "stdout",
     "output_type": "stream",
     "text": [
      "1 6.257964869840469\n",
      "501 93.55207052122829\n",
      "1001 97.38348133201272\n",
      "1501 98.57459890988937\n",
      "2001 99.15085746669263\n",
      "2501 99.47406644553519\n",
      "3001 99.66680219475778\n",
      "3501 99.78730377353105\n",
      "4001 99.86476406216855\n",
      "4501 99.9155813909803\n",
      "5001 99.94941009331255\n",
      "5501 99.97191763096099\n",
      "6001 99.98681327527274\n",
      "6501 99.99513027193174\n",
      "7001 99.99919507676053\n"
     ]
    }
   ],
   "source": [
    "n = dict()\n",
    "for i in range(1,7225,500):\n",
    " pca = PCA(n_components=i)\n",
    " x = pca.fit_transform(cells_scaled.drop([\"cellType\"],axis=1))\n",
    " ev = sum(pca.explained_variance_ratio_)*100\n",
    " n[i] = ev\n",
    " print(i,ev)"
   ]
  },
  {
   "cell_type": "code",
   "execution_count": 80,
   "id": "260bdca1",
   "metadata": {},
   "outputs": [
    {
     "name": "stdout",
     "output_type": "stream",
     "text": [
      "93.5536546585744\n"
     ]
    }
   ],
   "source": [
    "pca = PCA(n_components=501)\n",
    "x = pca.fit_transform(cells_scaled.drop([\"cellType\"],axis=1))\n",
    "ev = sum(pca.explained_variance_ratio_)*100\n",
    "print(ev)"
   ]
  },
  {
   "cell_type": "code",
   "execution_count": 60,
   "id": "e739f4f0",
   "metadata": {},
   "outputs": [
    {
     "data": {
      "image/png": "[encoded data removed]",
      "text/plain": [
       "<Figure size 576x576 with 1 Axes>"
      ]
     },
     "metadata": {},
     "output_type": "display_data"
    }
   ],
   "source": [
    "plt.figure(figsize=(8,8))\n",
    "sns.lineplot(markers=True, data=n,marker=\"o\",dashes=False)\n",
    "plt.title(\"Principal Component Analysis\")\n",
    "plt.xlabel(\"Number of components\")\n",
    "plt.ylabel(\"Explained variance of those components\")\n",
    "plt.show()"
   ]
  },
  {
   "cell_type": "markdown",
   "id": "16013cff",
   "metadata": {},
   "source": [
    "# Encoding the Target Variable"
   ]
  },
  {
   "cell_type": "markdown",
   "id": "4073deb0",
   "metadata": {},
   "source": [
    "To encode the variables, we incorporate One Hot Encoding since there is no relative ordering between the classes and thereby will not let distance based models to misinterpret some distance relationship."
   ]
  },
  {
   "cell_type": "markdown",
   "id": "8adce6b5",
   "metadata": {},
   "source": [
    "# Label Encoding"
   ]
  },
  {
   "cell_type": "markdown",
   "id": "93d05455",
   "metadata": {},
   "source": [
    "Label Encoding will encode the target variable sequentially under the assumption that there is some ordinal relationship between them. This might mislead the models which use distance metrics like SVMs and KNNs. Hence, we also encode the data using one-hot encoding."
   ]
  },
  {
   "cell_type": "code",
   "execution_count": 28,
   "id": "c59a1182",
   "metadata": {},
   "outputs": [],
   "source": [
    "label_encoder = LabelEncoder()\n",
    "cells_scaled['cellType']= label_encoder.fit_transform(cells_scaled['cellType'])"
   ]
  },
  {
   "cell_type": "code",
   "execution_count": 29,
   "id": "3317bdb4",
   "metadata": {},
   "outputs": [
    {
     "data": {
      "text/html": [
       "<div>\n",
       "<style scoped>\n",
       "    .dataframe tbody tr th:only-of-type {\n",
       "        vertical-align: middle;\n",
       "    }\n",
       "\n",
       "    .dataframe tbody tr th {\n",
       "        vertical-align: top;\n",
       "    }\n",
       "\n",
       "    .dataframe thead th {\n",
       "        text-align: right;\n",
       "    }\n",
       "</style>\n",
       "<table border=\"1\" class=\"dataframe\">\n",
       "  <thead>\n",
       "    <tr style=\"text-align: right;\">\n",
       "      <th></th>\n",
       "      <th>0</th>\n",
       "      <th>1</th>\n",
       "      <th>2</th>\n",
       "      <th>3</th>\n",
       "      <th>4</th>\n",
       "      <th>5</th>\n",
       "      <th>6</th>\n",
       "      <th>7</th>\n",
       "      <th>8</th>\n",
       "      <th>9</th>\n",
       "      <th>...</th>\n",
       "      <th>7216</th>\n",
       "      <th>7217</th>\n",
       "      <th>7218</th>\n",
       "      <th>7219</th>\n",
       "      <th>7220</th>\n",
       "      <th>7221</th>\n",
       "      <th>7222</th>\n",
       "      <th>7223</th>\n",
       "      <th>7224</th>\n",
       "      <th>cellType</th>\n",
       "    </tr>\n",
       "  </thead>\n",
       "  <tbody>\n",
       "    <tr>\n",
       "      <th>16114</th>\n",
       "      <td>-1.547402</td>\n",
       "      <td>-1.809922</td>\n",
       "      <td>-1.960160</td>\n",
       "      <td>-1.853032</td>\n",
       "      <td>-1.315643</td>\n",
       "      <td>0.214569</td>\n",
       "      <td>0.789130</td>\n",
       "      <td>0.748438</td>\n",
       "      <td>0.790441</td>\n",
       "      <td>0.794423</td>\n",
       "      <td>...</td>\n",
       "      <td>0.820116</td>\n",
       "      <td>0.838256</td>\n",
       "      <td>0.808262</td>\n",
       "      <td>0.858044</td>\n",
       "      <td>0.829390</td>\n",
       "      <td>0.859464</td>\n",
       "      <td>0.845564</td>\n",
       "      <td>0.838149</td>\n",
       "      <td>0.843340</td>\n",
       "      <td>6</td>\n",
       "    </tr>\n",
       "    <tr>\n",
       "      <th>2626</th>\n",
       "      <td>0.579635</td>\n",
       "      <td>-0.708324</td>\n",
       "      <td>-1.730009</td>\n",
       "      <td>-2.046157</td>\n",
       "      <td>-2.100305</td>\n",
       "      <td>-2.063272</td>\n",
       "      <td>-2.024835</td>\n",
       "      <td>-1.966120</td>\n",
       "      <td>-1.946434</td>\n",
       "      <td>-1.975031</td>\n",
       "      <td>...</td>\n",
       "      <td>-1.337429</td>\n",
       "      <td>-1.343753</td>\n",
       "      <td>-1.644497</td>\n",
       "      <td>-1.875919</td>\n",
       "      <td>-2.084227</td>\n",
       "      <td>-2.195770</td>\n",
       "      <td>-2.282543</td>\n",
       "      <td>-2.332251</td>\n",
       "      <td>-2.406696</td>\n",
       "      <td>2</td>\n",
       "    </tr>\n",
       "    <tr>\n",
       "      <th>3972</th>\n",
       "      <td>-0.181622</td>\n",
       "      <td>0.175235</td>\n",
       "      <td>0.630115</td>\n",
       "      <td>0.791107</td>\n",
       "      <td>0.847904</td>\n",
       "      <td>0.859904</td>\n",
       "      <td>0.875595</td>\n",
       "      <td>0.856364</td>\n",
       "      <td>0.847106</td>\n",
       "      <td>0.875359</td>\n",
       "      <td>...</td>\n",
       "      <td>0.813005</td>\n",
       "      <td>0.890211</td>\n",
       "      <td>0.957837</td>\n",
       "      <td>0.950792</td>\n",
       "      <td>0.925579</td>\n",
       "      <td>0.916936</td>\n",
       "      <td>0.899850</td>\n",
       "      <td>0.901683</td>\n",
       "      <td>0.888871</td>\n",
       "      <td>2</td>\n",
       "    </tr>\n",
       "    <tr>\n",
       "      <th>1956</th>\n",
       "      <td>-1.436042</td>\n",
       "      <td>-1.495676</td>\n",
       "      <td>-1.412786</td>\n",
       "      <td>-1.142202</td>\n",
       "      <td>-0.905972</td>\n",
       "      <td>-0.806107</td>\n",
       "      <td>-1.009416</td>\n",
       "      <td>-1.290417</td>\n",
       "      <td>-1.511019</td>\n",
       "      <td>-1.582613</td>\n",
       "      <td>...</td>\n",
       "      <td>-1.383901</td>\n",
       "      <td>-1.356129</td>\n",
       "      <td>-1.258557</td>\n",
       "      <td>-1.131277</td>\n",
       "      <td>-0.621973</td>\n",
       "      <td>0.446042</td>\n",
       "      <td>0.754673</td>\n",
       "      <td>0.756128</td>\n",
       "      <td>0.756597</td>\n",
       "      <td>4</td>\n",
       "    </tr>\n",
       "    <tr>\n",
       "      <th>13121</th>\n",
       "      <td>-2.061384</td>\n",
       "      <td>-2.130395</td>\n",
       "      <td>-2.236667</td>\n",
       "      <td>-2.315447</td>\n",
       "      <td>-2.477326</td>\n",
       "      <td>-2.655963</td>\n",
       "      <td>-2.679997</td>\n",
       "      <td>-2.636498</td>\n",
       "      <td>-2.397036</td>\n",
       "      <td>-1.187138</td>\n",
       "      <td>...</td>\n",
       "      <td>-0.398687</td>\n",
       "      <td>-0.396084</td>\n",
       "      <td>-0.632165</td>\n",
       "      <td>-0.672124</td>\n",
       "      <td>-0.829321</td>\n",
       "      <td>-1.081608</td>\n",
       "      <td>-1.246985</td>\n",
       "      <td>-1.207929</td>\n",
       "      <td>-0.872683</td>\n",
       "      <td>1</td>\n",
       "    </tr>\n",
       "    <tr>\n",
       "      <th>726</th>\n",
       "      <td>0.835154</td>\n",
       "      <td>0.802224</td>\n",
       "      <td>0.849542</td>\n",
       "      <td>0.845018</td>\n",
       "      <td>0.819764</td>\n",
       "      <td>0.814866</td>\n",
       "      <td>0.837844</td>\n",
       "      <td>0.838198</td>\n",
       "      <td>0.875836</td>\n",
       "      <td>0.840589</td>\n",
       "      <td>...</td>\n",
       "      <td>0.768533</td>\n",
       "      <td>0.810314</td>\n",
       "      <td>0.878766</td>\n",
       "      <td>0.819423</td>\n",
       "      <td>-0.179213</td>\n",
       "      <td>-1.173350</td>\n",
       "      <td>-1.454915</td>\n",
       "      <td>-1.592133</td>\n",
       "      <td>-1.538274</td>\n",
       "      <td>0</td>\n",
       "    </tr>\n",
       "    <tr>\n",
       "      <th>4314</th>\n",
       "      <td>0.960859</td>\n",
       "      <td>0.959201</td>\n",
       "      <td>0.941267</td>\n",
       "      <td>0.950206</td>\n",
       "      <td>0.955172</td>\n",
       "      <td>0.978412</td>\n",
       "      <td>0.954396</td>\n",
       "      <td>0.985180</td>\n",
       "      <td>0.998480</td>\n",
       "      <td>1.004935</td>\n",
       "      <td>...</td>\n",
       "      <td>0.965922</td>\n",
       "      <td>0.965833</td>\n",
       "      <td>0.949780</td>\n",
       "      <td>0.919971</td>\n",
       "      <td>0.913811</td>\n",
       "      <td>0.949964</td>\n",
       "      <td>0.955615</td>\n",
       "      <td>0.955420</td>\n",
       "      <td>0.959344</td>\n",
       "      <td>5</td>\n",
       "    </tr>\n",
       "    <tr>\n",
       "      <th>16334</th>\n",
       "      <td>0.916028</td>\n",
       "      <td>0.918213</td>\n",
       "      <td>0.896930</td>\n",
       "      <td>0.891916</td>\n",
       "      <td>0.877804</td>\n",
       "      <td>0.824169</td>\n",
       "      <td>0.773058</td>\n",
       "      <td>0.839906</td>\n",
       "      <td>0.895047</td>\n",
       "      <td>0.879805</td>\n",
       "      <td>...</td>\n",
       "      <td>0.937886</td>\n",
       "      <td>0.892531</td>\n",
       "      <td>0.939847</td>\n",
       "      <td>0.940041</td>\n",
       "      <td>0.948001</td>\n",
       "      <td>0.882837</td>\n",
       "      <td>0.906070</td>\n",
       "      <td>0.889569</td>\n",
       "      <td>0.837041</td>\n",
       "      <td>6</td>\n",
       "    </tr>\n",
       "    <tr>\n",
       "      <th>16274</th>\n",
       "      <td>0.905663</td>\n",
       "      <td>0.910730</td>\n",
       "      <td>0.917713</td>\n",
       "      <td>0.894102</td>\n",
       "      <td>0.588759</td>\n",
       "      <td>-1.567900</td>\n",
       "      <td>-2.954828</td>\n",
       "      <td>-2.564772</td>\n",
       "      <td>-0.609088</td>\n",
       "      <td>0.705512</td>\n",
       "      <td>...</td>\n",
       "      <td>0.971671</td>\n",
       "      <td>0.960774</td>\n",
       "      <td>0.965832</td>\n",
       "      <td>0.932539</td>\n",
       "      <td>0.914337</td>\n",
       "      <td>0.917502</td>\n",
       "      <td>0.918945</td>\n",
       "      <td>0.943080</td>\n",
       "      <td>0.499348</td>\n",
       "      <td>6</td>\n",
       "    </tr>\n",
       "    <tr>\n",
       "      <th>14378</th>\n",
       "      <td>0.473748</td>\n",
       "      <td>0.484550</td>\n",
       "      <td>0.495604</td>\n",
       "      <td>0.472091</td>\n",
       "      <td>0.477958</td>\n",
       "      <td>0.487253</td>\n",
       "      <td>0.488005</td>\n",
       "      <td>0.425851</td>\n",
       "      <td>-0.383466</td>\n",
       "      <td>-1.089446</td>\n",
       "      <td>...</td>\n",
       "      <td>0.424063</td>\n",
       "      <td>-0.291106</td>\n",
       "      <td>-0.809442</td>\n",
       "      <td>-0.958263</td>\n",
       "      <td>-1.031021</td>\n",
       "      <td>-1.070792</td>\n",
       "      <td>-1.064024</td>\n",
       "      <td>-1.082684</td>\n",
       "      <td>-1.072880</td>\n",
       "      <td>6</td>\n",
       "    </tr>\n",
       "  </tbody>\n",
       "</table>\n",
       "<p>10 rows × 7226 columns</p>\n",
       "</div>"
      ],
      "text/plain": [
       "              0         1         2         3         4         5         6  \\\n",
       "16114 -1.547402 -1.809922 -1.960160 -1.853032 -1.315643  0.214569  0.789130   \n",
       "2626   0.579635 -0.708324 -1.730009 -2.046157 -2.100305 -2.063272 -2.024835   \n",
       "3972  -0.181622  0.175235  0.630115  0.791107  0.847904  0.859904  0.875595   \n",
       "1956  -1.436042 -1.495676 -1.412786 -1.142202 -0.905972 -0.806107 -1.009416   \n",
       "13121 -2.061384 -2.130395 -2.236667 -2.315447 -2.477326 -2.655963 -2.679997   \n",
       "726    0.835154  0.802224  0.849542  0.845018  0.819764  0.814866  0.837844   \n",
       "4314   0.960859  0.959201  0.941267  0.950206  0.955172  0.978412  0.954396   \n",
       "16334  0.916028  0.918213  0.896930  0.891916  0.877804  0.824169  0.773058   \n",
       "16274  0.905663  0.910730  0.917713  0.894102  0.588759 -1.567900 -2.954828   \n",
       "14378  0.473748  0.484550  0.495604  0.472091  0.477958  0.487253  0.488005   \n",
       "\n",
       "              7         8         9  ...      7216      7217      7218  \\\n",
       "16114  0.748438  0.790441  0.794423  ...  0.820116  0.838256  0.808262   \n",
       "2626  -1.966120 -1.946434 -1.975031  ... -1.337429 -1.343753 -1.644497   \n",
       "3972   0.856364  0.847106  0.875359  ...  0.813005  0.890211  0.957837   \n",
       "1956  -1.290417 -1.511019 -1.582613  ... -1.383901 -1.356129 -1.258557   \n",
       "13121 -2.636498 -2.397036 -1.187138  ... -0.398687 -0.396084 -0.632165   \n",
       "726    0.838198  0.875836  0.840589  ...  0.768533  0.810314  0.878766   \n",
       "4314   0.985180  0.998480  1.004935  ...  0.965922  0.965833  0.949780   \n",
       "16334  0.839906  0.895047  0.879805  ...  0.937886  0.892531  0.939847   \n",
       "16274 -2.564772 -0.609088  0.705512  ...  0.971671  0.960774  0.965832   \n",
       "14378  0.425851 -0.383466 -1.089446  ...  0.424063 -0.291106 -0.809442   \n",
       "\n",
       "           7219      7220      7221      7222      7223      7224  cellType  \n",
       "16114  0.858044  0.829390  0.859464  0.845564  0.838149  0.843340         6  \n",
       "2626  -1.875919 -2.084227 -2.195770 -2.282543 -2.332251 -2.406696         2  \n",
       "3972   0.950792  0.925579  0.916936  0.899850  0.901683  0.888871         2  \n",
       "1956  -1.131277 -0.621973  0.446042  0.754673  0.756128  0.756597         4  \n",
       "13121 -0.672124 -0.829321 -1.081608 -1.246985 -1.207929 -0.872683         1  \n",
       "726    0.819423 -0.179213 -1.173350 -1.454915 -1.592133 -1.538274         0  \n",
       "4314   0.919971  0.913811  0.949964  0.955615  0.955420  0.959344         5  \n",
       "16334  0.940041  0.948001  0.882837  0.906070  0.889569  0.837041         6  \n",
       "16274  0.932539  0.914337  0.917502  0.918945  0.943080  0.499348         6  \n",
       "14378 -0.958263 -1.031021 -1.070792 -1.064024 -1.082684 -1.072880         6  \n",
       "\n",
       "[10 rows x 7226 columns]"
      ]
     },
     "execution_count": 29,
     "metadata": {},
     "output_type": "execute_result"
    }
   ],
   "source": [
    "cells_scaled.sample(10)"
   ]
  },
  {
   "cell_type": "code",
   "execution_count": 104,
   "id": "4cc035c4",
   "metadata": {},
   "outputs": [],
   "source": [
    "from sklearn.ensemble import RandomForestClassifier\n",
    "clf = RandomForestClassifier(n_estimators=50,max_depth=15,random_state=0,oob_score=True)"
   ]
  },
  {
   "cell_type": "code",
   "execution_count": 105,
   "id": "274e44fb",
   "metadata": {},
   "outputs": [
    {
     "data": {
      "text/plain": [
       "RandomForestClassifier(max_depth=15, n_estimators=50, oob_score=True,\n",
       "                       random_state=0)"
      ]
     },
     "execution_count": 105,
     "metadata": {},
     "output_type": "execute_result"
    }
   ],
   "source": [
    "clf.fit(X_train,y_train)"
   ]
  },
  {
   "cell_type": "code",
   "execution_count": 106,
   "id": "5193b2e5",
   "metadata": {},
   "outputs": [
    {
     "name": "stdout",
     "output_type": "stream",
     "text": [
      "Accuracy on Train Dataset : 0.9900534938147777\n",
      "Accuracy on Test Dataset : 0.7934867394695788\n"
     ]
    }
   ],
   "source": [
    "print(\"Accuracy on Train Dataset :\",clf.score(X_train, y_train))\n",
    "print(\"Accuracy on Test Dataset :\",clf.score(X_test, y_test))"
   ]
  },
  {
   "cell_type": "code",
   "execution_count": 107,
   "id": "8d0b990e",
   "metadata": {},
   "outputs": [
    {
     "data": {
      "text/plain": [
       "0.7703109327983951"
      ]
     },
     "execution_count": 107,
     "metadata": {},
     "output_type": "execute_result"
    }
   ],
   "source": [
    "clf.oob_score_"
   ]
  },
  {
   "cell_type": "code",
   "execution_count": 97,
   "id": "b6e46eb9",
   "metadata": {},
   "outputs": [],
   "source": [
    "from sklearn.ensemble import ExtraTreesClassifier\n",
    "clf = ExtraTreesClassifier(n_estimators=200, random_state=0)"
   ]
  },
  {
   "cell_type": "code",
   "execution_count": 98,
   "id": "81442987",
   "metadata": {},
   "outputs": [
    {
     "data": {
      "text/plain": [
       "ExtraTreesClassifier(n_estimators=200, random_state=0)"
      ]
     },
     "execution_count": 98,
     "metadata": {},
     "output_type": "execute_result"
    }
   ],
   "source": [
    "clf.fit(X_train,y_train)"
   ]
  },
  {
   "cell_type": "code",
   "execution_count": 99,
   "id": "c49baf70",
   "metadata": {},
   "outputs": [
    {
     "name": "stdout",
     "output_type": "stream",
     "text": [
      "Accuracy on Train Dataset : 0.9999164159144099\n",
      "Accuracy on Test Dataset : 0.8094773790951638\n"
     ]
    }
   ],
   "source": [
    "print(\"Accuracy on Train Dataset :\",clf.score(X_train, y_train))\n",
    "print(\"Accuracy on Test Dataset :\",clf.score(X_test, y_test))"
   ]
  },
  {
   "cell_type": "markdown",
   "id": "345fe22a",
   "metadata": {},
   "source": [
    "# Test-Train Split"
   ]
  },
  {
   "cell_type": "code",
   "execution_count": 32,
   "id": "290811bf",
   "metadata": {},
   "outputs": [],
   "source": [
    "X_train,X_test,y_train,y_test = train_test_split(cells_scaled,\n",
    "    cells_scaled[\"cellType\"],\n",
    "    test_size = 0.30,\n",
    "    train_size=0.70,\n",
    "    random_state = 0\n",
    ")"
   ]
  },
  {
   "cell_type": "code",
   "execution_count": 31,
   "id": "998c8e36",
   "metadata": {},
   "outputs": [],
   "source": [
    "X_train = X_train.drop([\"cellType\"],axis=1)\n",
    "X_test = X_test.drop([\"cellType\"],axis=1)"
   ]
  },
  {
   "cell_type": "markdown",
   "id": "8b82640f",
   "metadata": {},
   "source": [
    "# Saving the Training data"
   ]
  },
  {
   "cell_type": "code",
   "execution_count": 35,
   "id": "9fb4f41f",
   "metadata": {},
   "outputs": [],
   "source": [
    "X_train.to_csv(\"../data/csv/train.csv\")"
   ]
  },
  {
   "cell_type": "markdown",
   "id": "232f0252",
   "metadata": {},
   "source": [
    "# Saving the Testing data"
   ]
  },
  {
   "cell_type": "code",
   "execution_count": 36,
   "id": "2f54b5fb",
   "metadata": {},
   "outputs": [],
   "source": [
    "X_test.to_csv(\"../data/csv/test.csv\")"
   ]
  }
 ],
 "metadata": {
  "kernelspec": {
   "display_name": "Python 3 (ipykernel)",
   "language": "python",
   "name": "python3"
  },
  "language_info": {
   "codemirror_mode": {
    "name": "ipython",
    "version": 3
   },
   "file_extension": ".py",
   "mimetype": "text/x-python",
   "name": "python",
   "nbconvert_exporter": "python",
   "pygments_lexer": "ipython3",
   "version": "3.8.12"
  }
 },
 "nbformat": 4,
 "nbformat_minor": 5
}
